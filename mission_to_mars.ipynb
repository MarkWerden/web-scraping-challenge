{
 "cells": [
  {
   "cell_type": "code",
   "execution_count": 1,
   "id": "87c08553",
   "metadata": {},
   "outputs": [],
   "source": [
    "# Importing Dependencies\n",
    "from bs4 import BeautifulSoup\n",
    "import requests\n",
    "from splinter import Browser\n",
    "import pandas as pd\n",
    "import time"
   ]
  },
  {
   "cell_type": "code",
   "execution_count": 2,
   "id": "532c7f0a",
   "metadata": {},
   "outputs": [],
   "source": [
    "# Setting up the Search Engine (this is necessary for Python to run a browser to allow scraping)\n",
    "\n",
    "# (This executable file is necessary for the rest of the assignment to run, it basically runs a fork of Chrome to allow \n",
    "# commands to be run.) [P.S.: I removed the personal path I used for it, mainly for security reasons.]\n",
    "exe_path = {\"executable_path\": r\"<file path location>\\chromedriver.exe\"}\n",
    "# (The \"r\"  is needed to be before the driver path as it needs for it to be converted to a raw string in order to work)\n",
    "\n",
    "# [Extra Note: There are other methods of doing this, but I figured this would be easier as having it locally is better\n",
    "# than having to install it every single time I want to use it for scraping data. However, I did use web install for\n",
    "# everything else.]\n",
    "\n",
    "# (This handles the bot navigation through each of the websites by using it as a variable down the line)\n",
    "browser = Browser(\"chrome\", **exe_path, headless=False)"
   ]
  },
  {
   "cell_type": "code",
   "execution_count": 3,
   "id": "819ec605",
   "metadata": {},
   "outputs": [],
   "source": [
    "# Estabilishing Connection to NASA site (the website was given to us) \n",
    "# [The latest headline will change every time this cell is run as there is always something new each day]\n",
    "url = \"https://redplanetscience.com/\"\n",
    "browser.visit(url)\n",
    "time.sleep(3)"
   ]
  },
  {
   "cell_type": "code",
   "execution_count": 4,
   "id": "4971081e",
   "metadata": {},
   "outputs": [],
   "source": [
    "# Using results from the Driver and using BeautifulSoup to parse information (notice that its using the variable)\n",
    "html = browser.html\n",
    "soup = BeautifulSoup(html, 'html.parser')"
   ]
  },
  {
   "cell_type": "code",
   "execution_count": 5,
   "id": "35a88ece",
   "metadata": {},
   "outputs": [
    {
     "name": "stdout",
     "output_type": "stream",
     "text": [
      "<div class=\"content_title\">How NASA's Perseverance Mars Team Adjusted to Work in the Time of Coronavirus </div> <div class=\"article_teaser_body\">Like much of the rest of the world, the Mars rover team is pushing forward with its mission-critical work while putting the health and safety of their colleagues and community first.</div>\n"
     ]
    }
   ],
   "source": [
    "# Finding the most recent article title and body description (the variables for it were given to us from the homework)\n",
    "news_title = soup.find('div', class_='content_title')\n",
    "news_p = soup.find('div', class_='article_teaser_body')\n",
    "print(news_title, news_p)"
   ]
  },
  {
   "cell_type": "code",
   "execution_count": 6,
   "id": "a1dfc102",
   "metadata": {},
   "outputs": [],
   "source": [
    "# Having the Chrome Driver go to the JPL image website (link was given to us)\n",
    "url2 = \"https://spaceimages-mars.com/\"\n",
    "browser.visit(url2)\n",
    "time.sleep(3)\n",
    "# (The browser has to be re-parsed each time you want to gather data from)\n",
    "html = browser.html\n",
    "soup = BeautifulSoup(html, 'html.parser')"
   ]
  },
  {
   "cell_type": "code",
   "execution_count": 7,
   "id": "5ae7d97d",
   "metadata": {},
   "outputs": [
    {
     "data": {
      "text/plain": [
       "'https://spaceimages-mars.com/image/featured/mars3.jpg'"
      ]
     },
     "execution_count": 7,
     "metadata": {},
     "output_type": "execute_result"
    }
   ],
   "source": [
    "# Gathering data from the featured image at the top of the website\n",
    "\n",
    "# (This is telling to gather all image links and place them in a list, then have it display the first one in said list)\n",
    "img = [i.get(\"src\") for i in soup.find_all(\"img\", class_=\"headerimage fade-in\")]\n",
    "img[0]\n",
    "\n",
    "# (varible was given to us)\n",
    "featured_image_url = url2 + img[0]\n",
    "featured_image_url"
   ]
  },
  {
   "cell_type": "code",
   "execution_count": 8,
   "id": "9faf85ad",
   "metadata": {},
   "outputs": [],
   "source": [
    "# Having the driver go to the Galaxy Facts of Mars website (link was provided to us)\n",
    "url3 = \"https://galaxyfacts-mars.com/\"\n",
    "browser.visit(url3)\n",
    "time.sleep(3)\n",
    "html = browser.html\n",
    "soup = BeautifulSoup(html, 'html.parser')"
   ]
  },
  {
   "cell_type": "code",
   "execution_count": 9,
   "id": "8c49539c",
   "metadata": {},
   "outputs": [
    {
     "data": {
      "text/plain": [
       "<table class=\"table\">\n",
       "<tbody>\n",
       "<tr>\n",
       "<th scope=\"row\"><b> Mars - Earth Comparison</b></th>\n",
       "<td><span class=\"orange\"><b> Mars</b></span></td>\n",
       "<td><span class=\"purple\"> <b>Earth </b></span> </td>\n",
       "</tr>\n",
       "<tr>\n",
       "<th scope=\"row\">Diameter:</th>\n",
       "<td><span class=\"orange\">6,779 km</span></td>\n",
       "<td><span class=\"purple\">12,742 km</span> </td>\n",
       "</tr>\n",
       "<tr>\n",
       "<th scope=\"row\">Mass:</th>\n",
       "<td><span class=\"orange\">6.39 × 10^23 kg </span></td>\n",
       "<td><span class=\"purple\">5.97 × 10^24 kg</span> </td>\n",
       "</tr>\n",
       "<tr>\n",
       "<th scope=\"row\">Moons:</th>\n",
       "<td><span class=\"orange\">2</span></td>\n",
       "<td><span class=\"purple\">1</span> </td>\n",
       "</tr>\n",
       "<tr>\n",
       "<th scope=\"row\">Distance from Sun:</th>\n",
       "<td><span class=\"orange\">227,943,824 km</span></td>\n",
       "<td><span class=\"purple\">149,598,262 km</span> </td>\n",
       "</tr>\n",
       "<tr>\n",
       "<th scope=\"row\">Length of Year:</th>\n",
       "<td><span class=\"orange\">687 Earth days</span></td>\n",
       "<td><span class=\"purple\">365.24 days</span> </td>\n",
       "</tr>\n",
       "<tr>\n",
       "<th scope=\"row\">Temperature:</th>\n",
       "<td><span class=\"orange\">-87 to -5 °C</span></td>\n",
       "<td><span class=\"purple\">\t-88 to 58°C</span> </td>\n",
       "</tr>\n",
       "</tbody>\n",
       "</table>"
      ]
     },
     "execution_count": 9,
     "metadata": {},
     "output_type": "execute_result"
    }
   ],
   "source": [
    "# Gathering data from the Mars information column and compiling it into a dataframe\n",
    "# (Note: While the assignment directions did not specify, a comparison list of information between both Mars and Earth are\n",
    "# needed, so the table that exists on this website comparing the two planets will be used.)\n",
    "table_list = soup.find_all(\"table\", class_=\"table\")[0]\n",
    "table_list"
   ]
  },
  {
   "cell_type": "code",
   "execution_count": 10,
   "id": "4d8e8662",
   "metadata": {},
   "outputs": [
    {
     "data": {
      "text/plain": [
       "[' Mars - Earth Comparison',\n",
       " 'Diameter:',\n",
       " 'Mass:',\n",
       " 'Moons:',\n",
       " 'Distance from Sun:',\n",
       " 'Length of Year:',\n",
       " 'Temperature:']"
      ]
     },
     "execution_count": 10,
     "metadata": {},
     "output_type": "execute_result"
    }
   ],
   "source": [
    "# Creating the frame for the database (the headers that will be used) [\"for\" loops are used to make it easier to manage]\n",
    "header = [i.text for i in table_list(\"th\")] # (The \"i\" is really just a random letter, as any letter would do. Its just\n",
    "header                                      # the one most commonly used)"
   ]
  },
  {
   "cell_type": "code",
   "execution_count": 11,
   "id": "2b250e45",
   "metadata": {},
   "outputs": [
    {
     "data": {
      "text/plain": [
       "[' Mars',\n",
       " '6,779 km',\n",
       " '6.39 × 10^23 kg ',\n",
       " '2',\n",
       " '227,943,824 km',\n",
       " '687 Earth days',\n",
       " '-87 to -5 °C']"
      ]
     },
     "execution_count": 11,
     "metadata": {},
     "output_type": "execute_result"
    }
   ],
   "source": [
    "# Creating the tabs for the Mars and Earth Columns\n",
    "column_Mars = [i.text for i in table_list(\"span\", class_=\"orange\")]\n",
    "column_Mars"
   ]
  },
  {
   "cell_type": "code",
   "execution_count": 12,
   "id": "5134d641",
   "metadata": {},
   "outputs": [
    {
     "data": {
      "text/plain": [
       "[' Earth ',\n",
       " '12,742 km',\n",
       " '5.97 × 10^24 kg',\n",
       " '1',\n",
       " '149,598,262 km',\n",
       " '365.24 days',\n",
       " '\\t-88 to 58°C']"
      ]
     },
     "execution_count": 12,
     "metadata": {},
     "output_type": "execute_result"
    }
   ],
   "source": [
    "column_Earth = [i.text for i in table_list(\"span\", class_=\"purple\")]\n",
    "column_Earth"
   ]
  },
  {
   "cell_type": "code",
   "execution_count": 13,
   "id": "26e3c0d6",
   "metadata": {},
   "outputs": [
    {
     "data": {
      "text/plain": [
       "{'Description': [' Mars - Earth Comparison',\n",
       "  'Diameter:',\n",
       "  'Mass:',\n",
       "  'Moons:',\n",
       "  'Distance from Sun:',\n",
       "  'Length of Year:',\n",
       "  'Temperature:'],\n",
       " 'Mars': [' Mars',\n",
       "  '6,779 km',\n",
       "  '6.39 × 10^23 kg ',\n",
       "  '2',\n",
       "  '227,943,824 km',\n",
       "  '687 Earth days',\n",
       "  '-87 to -5 °C'],\n",
       " 'Earth': [' Earth ',\n",
       "  '12,742 km',\n",
       "  '5.97 × 10^24 kg',\n",
       "  '1',\n",
       "  '149,598,262 km',\n",
       "  '365.24 days',\n",
       "  '\\t-88 to 58°C']}"
      ]
     },
     "execution_count": 13,
     "metadata": {},
     "output_type": "execute_result"
    }
   ],
   "source": [
    "# Combining the data together\n",
    "combined_data = {\"Description\": header, \"Mars\": column_Mars, \"Earth\": column_Earth}\n",
    "combined_data"
   ]
  },
  {
   "cell_type": "code",
   "execution_count": 14,
   "id": "47bc651c",
   "metadata": {},
   "outputs": [
    {
     "data": {
      "text/html": [
       "<div>\n",
       "<style scoped>\n",
       "    .dataframe tbody tr th:only-of-type {\n",
       "        vertical-align: middle;\n",
       "    }\n",
       "\n",
       "    .dataframe tbody tr th {\n",
       "        vertical-align: top;\n",
       "    }\n",
       "\n",
       "    .dataframe thead th {\n",
       "        text-align: right;\n",
       "    }\n",
       "</style>\n",
       "<table border=\"1\" class=\"dataframe\">\n",
       "  <thead>\n",
       "    <tr style=\"text-align: right;\">\n",
       "      <th></th>\n",
       "      <th>Mars</th>\n",
       "      <th>Earth</th>\n",
       "    </tr>\n",
       "    <tr>\n",
       "      <th>Description</th>\n",
       "      <th></th>\n",
       "      <th></th>\n",
       "    </tr>\n",
       "  </thead>\n",
       "  <tbody>\n",
       "    <tr>\n",
       "      <th>Mars - Earth Comparison</th>\n",
       "      <td>Mars</td>\n",
       "      <td>Earth</td>\n",
       "    </tr>\n",
       "    <tr>\n",
       "      <th>Diameter:</th>\n",
       "      <td>6,779 km</td>\n",
       "      <td>12,742 km</td>\n",
       "    </tr>\n",
       "    <tr>\n",
       "      <th>Mass:</th>\n",
       "      <td>6.39 × 10^23 kg</td>\n",
       "      <td>5.97 × 10^24 kg</td>\n",
       "    </tr>\n",
       "    <tr>\n",
       "      <th>Moons:</th>\n",
       "      <td>2</td>\n",
       "      <td>1</td>\n",
       "    </tr>\n",
       "    <tr>\n",
       "      <th>Distance from Sun:</th>\n",
       "      <td>227,943,824 km</td>\n",
       "      <td>149,598,262 km</td>\n",
       "    </tr>\n",
       "    <tr>\n",
       "      <th>Length of Year:</th>\n",
       "      <td>687 Earth days</td>\n",
       "      <td>365.24 days</td>\n",
       "    </tr>\n",
       "    <tr>\n",
       "      <th>Temperature:</th>\n",
       "      <td>-87 to -5 °C</td>\n",
       "      <td>\\t-88 to 58°C</td>\n",
       "    </tr>\n",
       "  </tbody>\n",
       "</table>\n",
       "</div>"
      ],
      "text/plain": [
       "                                      Mars            Earth\n",
       "Description                                                \n",
       " Mars - Earth Comparison              Mars           Earth \n",
       "Diameter:                         6,779 km        12,742 km\n",
       "Mass:                     6.39 × 10^23 kg   5.97 × 10^24 kg\n",
       "Moons:                                   2                1\n",
       "Distance from Sun:          227,943,824 km   149,598,262 km\n",
       "Length of Year:             687 Earth days      365.24 days\n",
       "Temperature:                  -87 to -5 °C    \\t-88 to 58°C"
      ]
     },
     "execution_count": 14,
     "metadata": {},
     "output_type": "execute_result"
    }
   ],
   "source": [
    "# Creating the Mars/Earth Comparision Dataframe\n",
    "comparison_df = pd.DataFrame(combined_data)\n",
    "comparison_df.set_index(\"Description\", inplace=True)\n",
    "comparison_df"
   ]
  },
  {
   "cell_type": "code",
   "execution_count": 15,
   "id": "35fa177e",
   "metadata": {
    "scrolled": true
   },
   "outputs": [
    {
     "data": {
      "text/html": [
       "<div>\n",
       "<style scoped>\n",
       "    .dataframe tbody tr th:only-of-type {\n",
       "        vertical-align: middle;\n",
       "    }\n",
       "\n",
       "    .dataframe tbody tr th {\n",
       "        vertical-align: top;\n",
       "    }\n",
       "\n",
       "    .dataframe thead th {\n",
       "        text-align: right;\n",
       "    }\n",
       "</style>\n",
       "<table border=\"1\" class=\"dataframe\">\n",
       "  <thead>\n",
       "    <tr style=\"text-align: right;\">\n",
       "      <th></th>\n",
       "      <th>Mars</th>\n",
       "      <th>Earth</th>\n",
       "    </tr>\n",
       "    <tr>\n",
       "      <th>Description</th>\n",
       "      <th></th>\n",
       "      <th></th>\n",
       "    </tr>\n",
       "  </thead>\n",
       "  <tbody>\n",
       "    <tr>\n",
       "      <th>Mars - Earth Comparison</th>\n",
       "      <td>Mars</td>\n",
       "      <td>Earth</td>\n",
       "    </tr>\n",
       "    <tr>\n",
       "      <th>Diameter:</th>\n",
       "      <td>6,779 km</td>\n",
       "      <td>12,742 km</td>\n",
       "    </tr>\n",
       "    <tr>\n",
       "      <th>Mass:</th>\n",
       "      <td>6.39 × 10^23 kg</td>\n",
       "      <td>5.97 × 10^24 kg</td>\n",
       "    </tr>\n",
       "    <tr>\n",
       "      <th>Moons:</th>\n",
       "      <td>2</td>\n",
       "      <td>1</td>\n",
       "    </tr>\n",
       "    <tr>\n",
       "      <th>Distance from Sun:</th>\n",
       "      <td>227,943,824 km</td>\n",
       "      <td>149,598,262 km</td>\n",
       "    </tr>\n",
       "    <tr>\n",
       "      <th>Length of Year:</th>\n",
       "      <td>687 Earth days</td>\n",
       "      <td>365.24 days</td>\n",
       "    </tr>\n",
       "    <tr>\n",
       "      <th>Temperature:</th>\n",
       "      <td>-87 to -5 °C</td>\n",
       "      <td>-88 to 58°C</td>\n",
       "    </tr>\n",
       "  </tbody>\n",
       "</table>\n",
       "</div>"
      ],
      "text/plain": [
       "                                      Mars            Earth\n",
       "Description                                                \n",
       " Mars - Earth Comparison              Mars           Earth \n",
       "Diameter:                         6,779 km        12,742 km\n",
       "Mass:                     6.39 × 10^23 kg   5.97 × 10^24 kg\n",
       "Moons:                                   2                1\n",
       "Distance from Sun:          227,943,824 km   149,598,262 km\n",
       "Length of Year:             687 Earth days      365.24 days\n",
       "Temperature:                  -87 to -5 °C      -88 to 58°C"
      ]
     },
     "execution_count": 15,
     "metadata": {},
     "output_type": "execute_result"
    }
   ],
   "source": [
    "# Cleaning up the dataframe slightly (as the \"Earth Temperature\" has a \\t next to it)\n",
    "comparison_df[\"Earth\"] = comparison_df[\"Earth\"].str.replace(\"\\t\", \"\")\n",
    "comparison_df"
   ]
  },
  {
   "cell_type": "code",
   "execution_count": 16,
   "id": "cdcbc404",
   "metadata": {},
   "outputs": [
    {
     "name": "stdout",
     "output_type": "stream",
     "text": [
      "<table border=\"1\" class=\"dataframe table table-striped\">\n",
      "  <thead>\n",
      "    <tr style=\"text-align: right;\">\n",
      "      <th></th>\n",
      "      <th>Mars</th>\n",
      "      <th>Earth</th>\n",
      "    </tr>\n",
      "    <tr>\n",
      "      <th>Description</th>\n",
      "      <th></th>\n",
      "      <th></th>\n",
      "    </tr>\n",
      "  </thead>\n",
      "  <tbody>\n",
      "    <tr>\n",
      "      <th>Mars - Earth Comparison</th>\n",
      "      <td>Mars</td>\n",
      "      <td>Earth</td>\n",
      "    </tr>\n",
      "    <tr>\n",
      "      <th>Diameter:</th>\n",
      "      <td>6,779 km</td>\n",
      "      <td>12,742 km</td>\n",
      "    </tr>\n",
      "    <tr>\n",
      "      <th>Mass:</th>\n",
      "      <td>6.39 × 10^23 kg</td>\n",
      "      <td>5.97 × 10^24 kg</td>\n",
      "    </tr>\n",
      "    <tr>\n",
      "      <th>Moons:</th>\n",
      "      <td>2</td>\n",
      "      <td>1</td>\n",
      "    </tr>\n",
      "    <tr>\n",
      "      <th>Distance from Sun:</th>\n",
      "      <td>227,943,824 km</td>\n",
      "      <td>149,598,262 km</td>\n",
      "    </tr>\n",
      "    <tr>\n",
      "      <th>Length of Year:</th>\n",
      "      <td>687 Earth days</td>\n",
      "      <td>365.24 days</td>\n",
      "    </tr>\n",
      "    <tr>\n",
      "      <th>Temperature:</th>\n",
      "      <td>-87 to -5 °C</td>\n",
      "      <td>-88 to 58°C</td>\n",
      "    </tr>\n",
      "  </tbody>\n",
      "</table>\n"
     ]
    }
   ],
   "source": [
    "# Converting the Dataframe into a format used by HTML (for the index.html)\n",
    "# (It uses the same html class as the one on the actual website for consistency)\n",
    "comparison_html = comparison_df.to_html(classes=\"table table-striped\")\n",
    "print(comparison_html)"
   ]
  },
  {
   "cell_type": "code",
   "execution_count": 17,
   "id": "b767d7ee",
   "metadata": {},
   "outputs": [],
   "source": [
    "# Having the chrome driver go to the images of Mars' Hemispheres website (link also given to us)\n",
    "url4 = \"https://marshemispheres.com/\"\n",
    "browser.visit(url4)\n",
    "time.sleep(3)\n",
    "html = browser.html\n",
    "soup = BeautifulSoup(html, 'html.parser')"
   ]
  },
  {
   "cell_type": "code",
   "execution_count": null,
   "id": "033ec5ef",
   "metadata": {},
   "outputs": [],
   "source": [
    "# Gathering each of the four full resoulution images of Mars' hemispheres\n",
    "hemisphere_image_urls = []\n",
    "\n",
    "# (A \"for\" loop is used to gather all the source urls into a list as to reduce the amount of work needed to be done)\n",
    "for i in range(4):\n",
    "    html = browser.html                       # (Every time a new website is opened, it needs to be parsed, which is why\n",
    "    soup = BeautifulSoup(html, 'html.parser') # this code is here)\n",
    "    \n",
    "    title = soup.find_all(\"h3\")[i].get_text() # (\"h3\" is used because each text header is using h3 in its html code)\n",
    "    browser.find_by_tag('h3')[i].click()\n",
    "    time.sleep(3)\n",
    "    \n",
    "    html = browser.html # (Same for here too, technically its a new website for each of the full resoultion images)\n",
    "    soup = BeautifulSoup(html, 'html.parser')\n",
    "    \n",
    "    image_url = soup.find(\"img\", class_=\"wide-image\")[\"src\"] # (Originally I thought .get(\"src\") was needed but it didn't\n",
    "    hemisphere_image_urls.append({                           # work unless this method was used instead. It does the same)\n",
    "        \"title\": title,\n",
    "        \"img_url\": \"https://marshemispheres.com/\" + image_url\n",
    "    })\n",
    "    browser.back() # (This is here so that once it is finished it can go back to the previous page and start again)\n",
    "    time.sleep(3)\n",
    "    \n",
    "hemisphere_image_urls # (This will display the results)"
   ]
  },
  {
   "cell_type": "code",
   "execution_count": null,
   "id": "6e284634",
   "metadata": {},
   "outputs": [],
   "source": [
    "browser.quit() # (May or may not be necessary, but it basically does what it implies. It closes once its finished.)"
   ]
  },
  {
   "cell_type": "code",
   "execution_count": null,
   "id": "5bb7faa4",
   "metadata": {},
   "outputs": [],
   "source": []
  }
 ],
 "metadata": {
  "kernelspec": {
   "display_name": "Python 3 (ipykernel)",
   "language": "python",
   "name": "python3"
  },
  "language_info": {
   "codemirror_mode": {
    "name": "ipython",
    "version": 3
   },
   "file_extension": ".py",
   "mimetype": "text/x-python",
   "name": "python",
   "nbconvert_exporter": "python",
   "pygments_lexer": "ipython3",
   "version": "3.9.7"
  }
 },
 "nbformat": 4,
 "nbformat_minor": 5
}
